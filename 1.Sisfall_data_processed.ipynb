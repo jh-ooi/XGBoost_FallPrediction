{
 "cells": [
  {
   "cell_type": "code",
   "execution_count": 1,
   "metadata": {},
   "outputs": [],
   "source": [
    "import os\n",
    "import pandas as pd\n",
    "import numpy as np\n",
    "import matplotlib.pyplot as plt\n",
    "\n",
    "import os\n",
    "import math\n",
    "from tqdm import tqdm\n",
    "from sklearn.preprocessing import MinMaxScaler"
   ]
  },
  {
   "cell_type": "code",
   "execution_count": 2,
   "metadata": {},
   "outputs": [
    {
     "data": {
      "text/plain": [
       "4500"
      ]
     },
     "execution_count": 2,
     "metadata": {},
     "output_type": "execute_result"
    }
   ],
   "source": [
    "data_path='E:\\XGBoost\\dataset\\Rawdata_sisfall'\n",
    "fs = os.listdir(data_path)  \n",
    "len(fs)"
   ]
  },
  {
   "cell_type": "code",
   "execution_count": 3,
   "metadata": {},
   "outputs": [],
   "source": [
    "data=pd.DataFrame()"
   ]
  },
  {
   "cell_type": "code",
   "execution_count": 4,
   "metadata": {},
   "outputs": [
    {
     "name": "stderr",
     "output_type": "stream",
     "text": [
      "100%|████████████████████████████████████████████████████████████████████████████| 4500/4500 [1:47:01<00:00,  1.43s/it]\n"
     ]
    }
   ],
   "source": [
    "for f in tqdm(fs):\n",
    "    file_path = os.path.join(data_path, f)\n",
    "    df = pd.read_csv(file_path, usecols = [0,1,2], names = [\"Ax\", \"Ay\", \"Az\"])\n",
    "    #if ('D01' in f) or ('D02' in f) or ('D03' in f) or ('D04' in f):\n",
    "    #    df = df[:10000]\n",
    "    df = df.dropna()#drop all the missing value\n",
    "    df = df.loc[::2] #reduce from 200Hz to 100Hz \n",
    "    \n",
    "    #convert the bit into acceleration(g)\n",
    "    sensor_resolution = 13\n",
    "    sensor_range = 16\n",
    "    g = (2*sensor_range/2**sensor_resolution)\n",
    "    \n",
    "    df['Ax'] = g*df['Ax']\n",
    "    df['Ay'] = g*df['Ay']\n",
    "    df['Az'] = g*df['Az']\n",
    "    \n",
    "    #feature extraction \n",
    "    #Feature 1: sum vector magnitude (SVM) - C1\n",
    "    A1 = []\n",
    "    for i in range (df.shape[0]): #row by row\n",
    "        A1.append(np.sqrt(df.iloc[i]['Ax']**2 + df.iloc[i]['Ay']**2 + df.iloc[i]['Az']**2))\n",
    "    df['SVM'] = A1\n",
    "    \n",
    "    #Feature 2: SVM on horizontal plane - C2\n",
    "    A2 = []\n",
    "    for i in range(df.shape[0]):\n",
    "        A2.append(np.sqrt(df.iloc[i]['Ax']**2 + df.iloc[i]['Az']**2))\n",
    "    df['SVM_Horizontal'] = A2\n",
    "    \n",
    "    A3 = []\n",
    "    #Feature 3: Angle between z-axis and vertical (in rad) - C4\n",
    "    for i in range (df.shape[0]):\n",
    "        A3.append(math.atan2(np.sqrt(df.iloc[i]['Ax']**2+df.iloc[i]['Ay']**2), df.iloc[i]['Az']))\n",
    "    df['Angle_z_xy'] = A3\n",
    "    \n",
    "    max_SVM = df['SVM'].max()\n",
    "    max_SVM_index = df.index[df.SVM == max_SVM][0]\n",
    "    \n",
    "    min_SVM = df['SVM'].min()\n",
    "    min_SVM_index = df.index[df.SVM == min_SVM][0]\n",
    "    len_df = len(df)\n",
    "          \n",
    "    #after feature extraction, we need to select the window frame \n",
    "    #create a 3s window frame \n",
    "    #100Hz - 1 datapoint per 0.01s so 1.5s will have 150 datapoints.   \n",
    "    if (max_SVM_index - 150 < 0):\n",
    "        df = df[0:301]\n",
    "    else:\n",
    "        if (max_SVM_index + 150 > len_df):\n",
    "            df = df[len_df-301:len_df]\n",
    "        else:\n",
    "            df = df[max_SVM_index - 150 : max_SVM_index + 150]\n",
    "    \n",
    "    #tabulate the features for each sample\n",
    "    extracted_features = ['Ax', 'Ay', 'Az', 'SVM', 'SVM_Horizontal', 'Angle_z_xy']\n",
    "    for feature in extracted_features:\n",
    "        df['Mean_'+feature] = df[feature].mean()\n",
    "        df['Std_'+feature] = df[feature].std()\n",
    "        df['Var_'+feature] = df[feature].var()\n",
    "        df['Range_'+feature] = df[feature].max() - df[feature].min()\n",
    "        \n",
    "    #create label: 1-Fall; 0-Non-fall\n",
    "    df['label'] = f[0] #the first word of the file (D/F)\n",
    "    df['label'] = df['label'].map({'D':0, 'F':1})\n",
    "    \n",
    "    df.drop(['Ax','Ay','Az','SVM','SVM_Horizontal','Angle_z_xy'], axis=1, inplace=True)\n",
    "    df = df[0:1] #only require the first row         \n",
    "    \n",
    "    data=pd.concat([data,df],axis=0)"
   ]
  },
  {
   "cell_type": "code",
   "execution_count": 5,
   "metadata": {},
   "outputs": [],
   "source": [
    "data.to_csv('E:\\XGBoost\\dataset\\sisfall_processed_100Hz.csv',index=False)"
   ]
  }
 ],
 "metadata": {
  "kernelspec": {
   "display_name": "Python 3",
   "language": "python",
   "name": "python3"
  },
  "language_info": {
   "codemirror_mode": {
    "name": "ipython",
    "version": 3
   },
   "file_extension": ".py",
   "mimetype": "text/x-python",
   "name": "python",
   "nbconvert_exporter": "python",
   "pygments_lexer": "ipython3",
   "version": "3.8.3"
  }
 },
 "nbformat": 4,
 "nbformat_minor": 4
}
